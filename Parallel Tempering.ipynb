{
 "cells": [
  {
   "cell_type": "markdown",
   "metadata": {},
   "source": [
    "# Parallel Tempering"
   ]
  },
  {
   "cell_type": "code",
   "execution_count": 16,
   "metadata": {},
   "outputs": [],
   "source": [
    "library(adaptMCMC)\n",
    "library(coda)\n",
    "library(MASS)\n",
    "library(sn)\n",
    "library(ggplot2)"
   ]
  },
  {
   "cell_type": "markdown",
   "metadata": {},
   "source": [
    "* ## Synthetic data"
   ]
  },
  {
   "cell_type": "code",
   "execution_count": 2,
   "metadata": {
    "collapsed": true
   },
   "outputs": [],
   "source": [
    "mu.true <- 20\n",
    "sigma.true <- 2\n",
    "data <- rnorm(n=200, mean=mu.true, sd=sigma.true)"
   ]
  },
  {
   "cell_type": "markdown",
   "metadata": {},
   "source": [
    "* ## Log-posterior distribution"
   ]
  },
  {
   "cell_type": "code",
   "execution_count": 7,
   "metadata": {
    "collapsed": true
   },
   "outputs": [],
   "source": [
    "loglike <- function(params, data){\n",
    "    return (sum(dnorm(data, mean=abs(params[1]), sd=params[2], log=TRUE)))\n",
    "}\n",
    "\n",
    "logprior <- function(params){\n",
    "    return (dunif(params[1], min=-10000, max=10000, log=TRUE)+dunif(params[2], min=0, max=100, log=TRUE))\n",
    "}\n",
    "\n",
    "logpost <- function(params, data, temp){\n",
    "    lp <- logprior(params)\n",
    "    if (is.infinite(lp)){\n",
    "        return(-Inf)\n",
    "    }\n",
    "    ll <- loglike(params, data)\n",
    "    return (temp*(ll+lp))\n",
    "}"
   ]
  },
  {
   "cell_type": "markdown",
   "metadata": {},
   "source": [
    "* ## Temperature schedules"
   ]
  },
  {
   "cell_type": "code",
   "execution_count": 4,
   "metadata": {
    "collapsed": true
   },
   "outputs": [],
   "source": [
    "temp.schedules <- function(nchains, deltaT){\n",
    "    temps <- c()\n",
    "    for (i in seq(1, nchains)){\n",
    "        temps <- c(temps, 1/(1+deltaT*(i-1)))\n",
    "    }\n",
    "    return (temps)\n",
    "}"
   ]
  },
  {
   "cell_type": "markdown",
   "metadata": {},
   "source": [
    "* ## Algorithm implementation"
   ]
  },
  {
   "cell_type": "code",
   "execution_count": 5,
   "metadata": {
    "collapsed": true
   },
   "outputs": [],
   "source": [
    "repexMCMC <- function(nchains, temp_intervals, initials, logposterior, data, ncycles, cycle, covariance_matrix, nparams){\n",
    "    ntrials <- 0\n",
    "    nswaps <- 0\n",
    "    output <- list()\n",
    "    for (i in 1:nchains){\n",
    "        output[[i]] <- list()\n",
    "        output[[i]]$samples <- matrix(nrow=1+ncycles*cycle, ncol=nparams)\n",
    "        output[[i]]$samples[1, ] <- initials[i, ]\n",
    "        output[[i]]$log.p <- rep(0, 1+ncycles*cycle)\n",
    "        output[[i]]$log.p[1] <- logposterior(initials[i, ], data, temp_intervals[i])\n",
    "    }\n",
    "    for (i in 1:ncycles){\n",
    "        for (j in 1:cycle){\n",
    "            index <- (i-1)*cycle+j\n",
    "            for (k in 1:nchains){\n",
    "                currentState <- output[[k]]$samples[index, ]\n",
    "                currentLog.p <- output[[k]]$log.p[index]\n",
    "                proposalState <- mvrnorm(n=1, mu=currentState, Sigma=covariance_matrix)\n",
    "                proposalLog.p <- logposterior(proposalState, data, temp_intervals[k])\n",
    "                P.accept <- min(0, proposalLog.p-currentLog.p)\n",
    "                U <- runif(n=1, min=0, max=1)\n",
    "                if (log(U) < P.accept){\n",
    "                    output[[k]]$samples[index+1, ] <- proposalState\n",
    "                    output[[k]]$log.p[index+1] <- proposalLog.p\n",
    "                }\n",
    "                else{\n",
    "                    output[[k]]$samples[index+1, ] <- currentState\n",
    "                    output[[k]]$log.p[index+1] <- currentLog.p\n",
    "                }\n",
    "            }\n",
    "        }\n",
    "        ntrials <- ntrials+1\n",
    "        couple <- sample(1:nchains, size=2); c1 <- couple[1]; c2 <- couple[2]\n",
    "        x <- output[[c1]]$samples[index+1, ]; y<- output[[c2]]$samples[index+1, ]\n",
    "        P.swap <- min(0, logposterior(y, data=data, temp=temp_intervals[c1])+\n",
    "                         logposterior(x, data=data, temp=temp_intervals[c2])-\n",
    "                         logposterior(x, data=data, temp=temp_intervals[c1])-\n",
    "                         logposterior(y, data=data, temp=temp_intervals[c2]))\n",
    "        U <- runif(n=1, min=0, max=1)\n",
    "        if (log(U) < P.swap){\n",
    "            nswaps <- nswaps + 1\n",
    "            output[[c1]]$samples[index+1, ] <- y; output[[c2]]$samples[index+1, ] <- x\n",
    "        }\n",
    "    }\n",
    "    print (nswaps/ntrials)\n",
    "    return (output[[1]])\n",
    "}"
   ]
  },
  {
   "cell_type": "markdown",
   "metadata": {},
   "source": [
    "* ## Parallel Tempering"
   ]
  },
  {
   "cell_type": "code",
   "execution_count": null,
   "metadata": {
    "collapsed": true
   },
   "outputs": [],
   "source": [
    "nchains <- 10\n",
    "deltaT <- 2\n",
    "temps <- temp.schedules(nchains, deltaT)\n",
    "init <- 0\n",
    "cov <- matrix(data=c(0,0), ncol=2, nrow=2)\n",
    "cov[1,1] <- 1\n",
    "cov[2,2] <- 1\n",
    "test.cMCMC <- repexMCMC(10, temps, matrix(data=c(0, 1), ncol=2, nrow=10, byrow=TRUE), logpost, data, 20000, 5, cov, 2)"
   ]
  },
  {
   "cell_type": "markdown",
   "metadata": {},
   "source": [
    "* ## Regular MCMC"
   ]
  },
  {
   "cell_type": "code",
   "execution_count": 9,
   "metadata": {},
   "outputs": [
    {
     "name": "stdout",
     "output_type": "stream",
     "text": [
      "  generate 1e+05 samples \n"
     ]
    }
   ],
   "source": [
    "test.rMCMC <- MCMC(p=logpost, \n",
    "                   n=100001, \n",
    "                   init=c(0, 1),\n",
    "                   adapt=TRUE,\n",
    "                   acc.rate=0.234,\n",
    "                   data=data,\n",
    "                   temp=1)"
   ]
  },
  {
   "cell_type": "markdown",
   "metadata": {},
   "source": [
    "* ## Comparsion"
   ]
  },
  {
   "cell_type": "code",
   "execution_count": 33,
   "metadata": {},
   "outputs": [
    {
     "data": {
      "text/html": [
       "<strong>png:</strong> 2"
      ],
      "text/latex": [
       "\\textbf{png:} 2"
      ],
      "text/markdown": [
       "**png:** 2"
      ],
      "text/plain": [
       "png \n",
       "  2 "
      ]
     },
     "metadata": {},
     "output_type": "display_data"
    },
    {
     "data": {
      "image/png": "[encoded data removed]",
      "text/plain": [
       "Plot with title \"density.default(x = test.cMCMC$samples[, 1])\""
      ]
     },
     "metadata": {},
     "output_type": "display_data"
    }
   ],
   "source": [
    "d.rmcmc <- density(test.rMCMC$samples[, 1])\n",
    "d.cmcmc <- density(test.cMCMC$samples[, 1])\n",
    "\n",
    "par(mfrow=c(1,2))\n",
    "plot(d.rmcmc)\n",
    "plot(d.cmcmc)\n",
    "\n",
    "\n",
    "\n",
    "jpeg('compare.jpg')\n",
    "par(mfrow=c(1,2))\n",
    "plot(d.rmcmc)\n",
    "plot(d.cmcmc)\n",
    "dev.off()"
   ]
  },
  {
   "cell_type": "code",
   "execution_count": null,
   "metadata": {
    "collapsed": true
   },
   "outputs": [],
   "source": []
  }
 ],
 "metadata": {
  "kernelspec": {
   "display_name": "R",
   "language": "R",
   "name": "ir"
  },
  "language_info": {
   "codemirror_mode": "r",
   "file_extension": ".r",
   "mimetype": "text/x-r-source",
   "name": "R",
   "pygments_lexer": "r",
   "version": "3.4.3"
  }
 },
 "nbformat": 4,
 "nbformat_minor": 2
}
